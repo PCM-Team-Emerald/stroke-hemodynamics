{
 "cells": [
  {
   "cell_type": "code",
   "execution_count": 41,
   "metadata": {},
   "outputs": [],
   "source": [
    "import pandas as pd\n",
    "import numpy as np\n",
    "import sqlite3\n",
    "import tsfresh\n",
    "import plotly.express as px"
   ]
  },
  {
   "cell_type": "code",
   "execution_count": 62,
   "metadata": {},
   "outputs": [],
   "source": [
    "path_in = \"/home/idies/workspace/Storage/zmurphy3/PCM Team Emerald/Data/Processed/Merged_norehab.db\"\n",
    "con = sqlite3.connect(path_in)\n",
    "insheet = pd.read_sql_query(\"SELECT * FROM timeseries_instantaneous\", con)\n",
    "startstop = pd.read_sql_query(\"SELECT * FROM timeseries_startstop\", con)\n",
    "static = pd.read_sql_query(\"SELECT * FROM static_predictors\", con)\n",
    "outcomes = pd.read_sql_query(\"SELECT * FROM outcomes\", con)"
   ]
  },
  {
   "cell_type": "code",
   "execution_count": 68,
   "metadata": {},
   "outputs": [],
   "source": [
    "scores = insheet[(insheet['measure'] == 'glasgow_score') & (insheet['timestamp'] >= 1440) & (insheet['timestamp'] < 10080)]"
   ]
  },
  {
   "cell_type": "code",
   "execution_count": 69,
   "metadata": {},
   "outputs": [],
   "source": [
    "min_gcs = scores.groupby('mrn_csn_pair').min().value"
   ]
  },
  {
   "cell_type": "code",
   "execution_count": 70,
   "metadata": {},
   "outputs": [
    {
     "data": {
      "text/plain": [
       "mrn_csn_pair\n",
       "(10, 2913)      12.0\n",
       "(1001, 2708)    12.0\n",
       "(1002, 3238)    14.0\n",
       "(1004, 1204)    11.0\n",
       "(1005, 2109)    11.0\n",
       "                ... \n",
       "(992, 1997)      4.0\n",
       "(993, 8)         4.0\n",
       "(995, 1464)     13.0\n",
       "(996, 1653)     14.0\n",
       "(998, 3015)      3.0\n",
       "Name: value, Length: 1727, dtype: float64"
      ]
     },
     "execution_count": 70,
     "metadata": {},
     "output_type": "execute_result"
    }
   ],
   "source": [
    "min_gcs"
   ]
  },
  {
   "cell_type": "code",
   "execution_count": 71,
   "metadata": {},
   "outputs": [],
   "source": [
    "# Drop all patients missing GCS\n",
    "insheet = insheet[insheet['mrn_csn_pair'].isin(min_gcs.index)]\n",
    "startstop = startstop[startstop['mrn_csn_pair'].isin(min_gcs.index)]\n",
    "static = static[static['mrn_csn_pair'].isin(min_gcs.index)]\n",
    "outcomes = outcomes[outcomes['mrn_csn_pair'].isin(min_gcs.index)]"
   ]
  },
  {
   "cell_type": "code",
   "execution_count": 72,
   "metadata": {},
   "outputs": [],
   "source": [
    "# Drop all GCS as predictors so they don't influence decision\n",
    "gcs = ['glasgow_eye_opening', 'glasgow_motor_response', 'glasgow_score', 'glasgow_verbal_response', 'orientation', 'consciousness']\n",
    "insheet = insheet[~insheet['measure'].isin(gcs)]"
   ]
  },
  {
   "cell_type": "code",
   "execution_count": 73,
   "metadata": {},
   "outputs": [],
   "source": [
    "insheet = insheet.append(startstop).sort_values('mrn_csn_pair')"
   ]
  },
  {
   "cell_type": "code",
   "execution_count": 74,
   "metadata": {},
   "outputs": [
    {
     "data": {
      "text/plain": [
       "mrn_csn_pair\n",
       "(10, 2913)      12.0\n",
       "(1001, 2708)    12.0\n",
       "(1002, 3238)    14.0\n",
       "(1004, 1204)    11.0\n",
       "(1005, 2109)    11.0\n",
       "                ... \n",
       "(992, 1997)      4.0\n",
       "(993, 8)         4.0\n",
       "(995, 1464)     13.0\n",
       "(996, 1653)     14.0\n",
       "(998, 3015)      3.0\n",
       "Name: value, Length: 1727, dtype: float64"
      ]
     },
     "execution_count": 74,
     "metadata": {},
     "output_type": "execute_result"
    }
   ],
   "source": [
    "min_gcs"
   ]
  },
  {
   "cell_type": "code",
   "execution_count": 75,
   "metadata": {},
   "outputs": [
    {
     "name": "stderr",
     "output_type": "stream",
     "text": [
      "Feature Extraction: 100%|██████████| 40/40 [07:36<00:00, 11.40s/it]\n",
      "/home/idies/miniconda3/lib/python3.8/site-packages/tsfresh/utilities/dataframe_functions.py:171: RuntimeWarning: The columns ['laxative__sample_entropy' 'NRBC__sample_entropy'\n",
      " 'cvc_line__sample_entropy' 'line__sample_entropy'\n",
      " 'diuretic__sample_entropy' 'drain__sample_entropy'\n",
      " 'antiarrhythmic__sample_entropy' 'Floor__sample_entropy'] did not have any finite values. Filling with zeros.\n",
      "  warnings.warn(\"The columns {} did not have any finite values. Filling with zeros.\".format(\n"
     ]
    }
   ],
   "source": [
    "pats = insheet.sort_values('mrn_csn_pair')['mrn_csn_pair'].unique()\n",
    "\n",
    "first = insheet[(insheet['timestamp'] < 1440) & (insheet['timestamp'] >= 0)]\n",
    "first = first.sort_values('mrn_csn_pair').reset_index(drop=True)\n",
    "\n",
    "extracted_flowsheet = tsfresh.extract_features(first, column_id='mrn_csn_pair', column_sort='timestamp', column_kind='measure', column_value='value', n_jobs=8)\n",
    "# Drop features that are only NaN\n",
    "extracted_flowsheet = extracted_flowsheet.dropna(axis=1, how='all')\n",
    "\n",
    "tsfresh.utilities.dataframe_functions.impute(extracted_flowsheet)\n",
    "# Add back the mrn_csn_pair\n",
    "extracted_flowsheet.insert(0, 'mrn_csn_pair', pats)\n",
    "extracted_flowsheet = extracted_flowsheet.reset_index(drop=True)"
   ]
  },
  {
   "cell_type": "code",
   "execution_count": 76,
   "metadata": {},
   "outputs": [],
   "source": [
    "flowsheet = extracted_flowsheet\n",
    "flowsheet = flowsheet.reset_index(drop=True)"
   ]
  },
  {
   "cell_type": "code",
   "execution_count": 77,
   "metadata": {},
   "outputs": [],
   "source": [
    "min_gcs = pd.Series(min_gcs).reset_index(drop=True)\n",
    "bin_min_gcs = (min_gcs <= 13).astype(int)"
   ]
  },
  {
   "cell_type": "code",
   "execution_count": 79,
   "metadata": {},
   "outputs": [],
   "source": [
    "flowsheet = flowsheet.loc[:, (flowsheet != 0).any(axis=0)]\n",
    "\n",
    "# Do tsfresh feature filtering to dramatically reduce feature space\n",
    "feature_table = tsfresh.feature_selection.relevance.calculate_relevance_table(flowsheet.drop('mrn_csn_pair', axis=1), bin_min_gcs,\n",
    "                                                                              n_jobs=8)\n",
    "# Concat data into one place, dropping irrelevant features\n",
    "complete = pd.concat([flowsheet.drop('mrn_csn_pair', axis=1).loc[:, feature_table['relevant']],\n",
    "                      static.sort_values('mrn_csn_pair').reset_index(drop=True)], axis=1)\n",
    "\n",
    "# Insert LOS and  mrn_csn_pair to the data file\n",
    "complete.insert(0, 'bin_min_gcs', bin_min_gcs)\n",
    "#complete.insert(1, 'time_in_hospital', outcomes.sort_values('mrn_csn_pair')['time_in_hospital'].reset_index(drop=True))\n",
    "#complete = complete[complete['time_in_hospital'] > cutoff]\n",
    "#complete = complete.drop('time_in_hospital', axis=1)\n",
    "pairs = complete['mrn_csn_pair']\n",
    "complete = complete.drop('mrn_csn_pair', axis=1)\n",
    "complete.insert(1, 'mrn_csn_pair', pairs)"
   ]
  },
  {
   "cell_type": "code",
   "execution_count": 80,
   "metadata": {},
   "outputs": [
    {
     "data": {
      "text/plain": [
       "0.35089751013317894"
      ]
     },
     "execution_count": 80,
     "metadata": {},
     "output_type": "execute_result"
    }
   ],
   "source": [
    "bin_min_gcs.sum() / bin_min_gcs.shape[0]"
   ]
  },
  {
   "cell_type": "code",
   "execution_count": 81,
   "metadata": {},
   "outputs": [
    {
     "data": {
      "text/plain": [
       "(1727, 9256)"
      ]
     },
     "execution_count": 81,
     "metadata": {},
     "output_type": "execute_result"
    }
   ],
   "source": [
    "complete.shape"
   ]
  },
  {
   "cell_type": "code",
   "execution_count": 82,
   "metadata": {},
   "outputs": [],
   "source": [
    "complete.to_csv(\"/home/idies/workspace/Storage/zmurphy3/PCM Team Emerald/Data/Processed/complete_24h_72h_min_gcs.csv\")"
   ]
  },
  {
   "cell_type": "code",
   "execution_count": null,
   "metadata": {},
   "outputs": [],
   "source": []
  }
 ],
 "metadata": {
  "kernelspec": {
   "display_name": "Python 3",
   "language": "python",
   "name": "python3"
  },
  "language_info": {
   "codemirror_mode": {
    "name": "ipython",
    "version": 3
   },
   "file_extension": ".py",
   "mimetype": "text/x-python",
   "name": "python",
   "nbconvert_exporter": "python",
   "pygments_lexer": "ipython3",
   "version": "3.8.5"
  }
 },
 "nbformat": 4,
 "nbformat_minor": 4
}
