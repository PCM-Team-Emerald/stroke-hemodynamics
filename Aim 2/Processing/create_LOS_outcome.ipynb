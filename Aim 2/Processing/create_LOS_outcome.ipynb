{
 "cells": [
  {
   "cell_type": "code",
   "execution_count": 14,
   "metadata": {},
   "outputs": [],
   "source": [
    "import numpy as np\n",
    "import pandas as pd\n",
    "import sqlite3"
   ]
  },
  {
   "cell_type": "code",
   "execution_count": 15,
   "metadata": {},
   "outputs": [],
   "source": [
    "# Get path and connection\n",
    "path_in = \"S:\\Dehydration_stroke\\Team Emerald\\Working Data\\Preprocessed\\Working\\Processed.db\"\n",
    "path_out = \"S:\\Dehydration_stroke\\Team Emerald\\Working Data\\Preprocessed\\Working\\Models.db\"\n",
    "con = sqlite3.connect(path_in)\n",
    "con_out = sqlite3.connect(path_out)"
   ]
  },
  {
   "cell_type": "code",
   "execution_count": 17,
   "metadata": {},
   "outputs": [],
   "source": [
    "adt = pd.read_sql_query(\"SELECT * FROM DEMOGRAPHICS\", con)\n",
    "pats = pd.read_sql_query(\"SELECT * FROM patient_list\", con_out)\n",
    "pats = pats['0']"
   ]
  },
  {
   "cell_type": "code",
   "execution_count": 32,
   "metadata": {},
   "outputs": [],
   "source": [
    "y = pd.DataFrame()\n",
    "for i in pats:\n",
    "    start_time = np.datetime64(list(adt[adt['mrn_csn_pair'] == i]['admission_datetime'])[0])\n",
    "    end_time = np.datetime64(list(adt[adt['mrn_csn_pair'] == i]['discharge_datetime'])[0])\n",
    "    temp = pd.DataFrame([[i, int(end_time - start_time > np.timedelta64(7, 'D'))]], columns=['mrn_csn_pair', 'LOS'])\n",
    "    y = y.append(temp, ignore_index=True)"
   ]
  },
  {
   "cell_type": "code",
   "execution_count": 34,
   "metadata": {},
   "outputs": [],
   "source": [
    "y.to_sql('primary_outcome', con_out, if_exists='replace')"
   ]
  },
  {
   "cell_type": "code",
   "execution_count": 35,
   "metadata": {},
   "outputs": [],
   "source": [
    "con.close()\n",
    "con_out.close()"
   ]
  },
  {
   "cell_type": "code",
   "execution_count": null,
   "metadata": {},
   "outputs": [],
   "source": []
  }
 ],
 "metadata": {
  "kernelspec": {
   "display_name": "Python 3",
   "language": "python",
   "name": "python3"
  },
  "language_info": {
   "codemirror_mode": {
    "name": "ipython",
    "version": 3
   },
   "file_extension": ".py",
   "mimetype": "text/x-python",
   "name": "python",
   "nbconvert_exporter": "python",
   "pygments_lexer": "ipython3",
   "version": "3.8.5"
  }
 },
 "nbformat": 4,
 "nbformat_minor": 4
}
